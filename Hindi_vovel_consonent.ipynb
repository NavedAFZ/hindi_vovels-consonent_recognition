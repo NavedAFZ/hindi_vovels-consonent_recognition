{
  "nbformat": 4,
  "nbformat_minor": 0,
  "metadata": {
    "colab": {
      "name": "Hindi_vovel_consonent.ipynb",
      "provenance": [],
      "collapsed_sections": [],
      "toc_visible": true,
      "authorship_tag": "ABX9TyPXCjTk6nkJjGUCgH8ESAX5",
      "include_colab_link": true
    },
    "kernelspec": {
      "name": "python3",
      "display_name": "Python 3"
    },
    "accelerator": "GPU"
  },
  "cells": [
    {
      "cell_type": "markdown",
      "metadata": {
        "id": "view-in-github",
        "colab_type": "text"
      },
      "source": [
        "<a href=\"https://colab.research.google.com/github/NavedAFZ/hindi_vovels-consonent_recognition/blob/master/Hindi_vovel_consonent.ipynb\" target=\"_parent\"><img src=\"https://colab.research.google.com/assets/colab-badge.svg\" alt=\"Open In Colab\"/></a>"
      ]
    },
    {
      "cell_type": "code",
      "metadata": {
        "id": "3oHYy4XoD3_v",
        "colab_type": "code",
        "outputId": "e74a7214-db4c-4479-9380-311a6813bed3",
        "colab": {
          "base_uri": "https://localhost:8080/",
          "height": 126
        }
      },
      "source": [
        "from google.colab import drive\n",
        "drive.mount('/content/gdrive')\n"
      ],
      "execution_count": 1,
      "outputs": [
        {
          "output_type": "stream",
          "text": [
            "Go to this URL in a browser: https://accounts.google.com/o/oauth2/auth?client_id=947318989803-6bn6qk8qdgf4n4g3pfee6491hc0brc4i.apps.googleusercontent.com&redirect_uri=urn%3aietf%3awg%3aoauth%3a2.0%3aoob&response_type=code&scope=email%20https%3a%2f%2fwww.googleapis.com%2fauth%2fdocs.test%20https%3a%2f%2fwww.googleapis.com%2fauth%2fdrive%20https%3a%2f%2fwww.googleapis.com%2fauth%2fdrive.photos.readonly%20https%3a%2f%2fwww.googleapis.com%2fauth%2fpeopleapi.readonly\n",
            "\n",
            "Enter your authorization code:\n",
            "··········\n",
            "Mounted at /content/gdrive\n"
          ],
          "name": "stdout"
        }
      ]
    },
    {
      "cell_type": "code",
      "metadata": {
        "id": "uTGIP7mvK_fT",
        "colab_type": "code",
        "colab": {}
      },
      "source": [
        "\"\"\"zip_path=\"content/gdrive/My Drive/kaggle/padhai-hindi-vow-cons-classification.zip\"\n",
        "!cp \"content/gdrive/My Drive/kaggle/padhai-hindi-vow-cons-classification.zip\" \"/content/sample_data\"                                            \n",
        "# -d \"/content/sample_data\"\n",
        "#!cp --help\"\"\"\n"
      ],
      "execution_count": 0,
      "outputs": []
    },
    {
      "cell_type": "code",
      "metadata": {
        "id": "aFJMXZTSEBoc",
        "colab_type": "code",
        "outputId": "fd243442-79a5-49bc-cab4-359834ecf59a",
        "colab": {
          "base_uri": "https://localhost:8080/",
          "height": 72
        }
      },
      "source": [
        "import numpy as np\n",
        "import matplotlib.pyplot as plt\n",
        "import seaborn as sns\n",
        "\n",
        "import torch\n",
        "import torch.nn as nn\n",
        "import torchvision\n",
        "import torchvision.datasets as datasets\n",
        "import torchvision.models as models\n",
        "import torchvision.transforms as transforms"
      ],
      "execution_count": 2,
      "outputs": [
        {
          "output_type": "stream",
          "text": [
            "/usr/local/lib/python3.6/dist-packages/statsmodels/tools/_testing.py:19: FutureWarning: pandas.util.testing is deprecated. Use the functions in the public API at pandas.testing instead.\n",
            "  import pandas.util.testing as tm\n"
          ],
          "name": "stderr"
        }
      ]
    },
    {
      "cell_type": "code",
      "metadata": {
        "id": "pn5BXol8EQKy",
        "colab_type": "code",
        "colab": {}
      },
      "source": [
        "transform = transforms.Compose([\n",
        "    transforms.Resize(224), \n",
        "    transforms.ToTensor(),\n",
        "    transforms.Normalize((0.485, 0.456, 0.406), (0.229, 0.224, 0.225)),\n",
        "    ])"
      ],
      "execution_count": 0,
      "outputs": []
    },
    {
      "cell_type": "code",
      "metadata": {
        "id": "6qq4gKqRETqh",
        "colab_type": "code",
        "colab": {}
      },
      "source": [
        "import os\n",
        "from PIL import Image\n",
        "import matplotlib.pyplot as plt\n",
        "\n",
        "import torch\n",
        "import torchvision\n",
        "from torch.utils.data import DataLoader, Dataset, random_split\n",
        "import torchvision.transforms as transforms\n",
        "\n",
        "#For converting the dataset to torchvision dataset format\n",
        "class VowelConsonantDataset(Dataset):\n",
        "    def __init__(self, file_path,train=True,transform=None):\n",
        "        self.transform = transform\n",
        "        self.file_path=file_path\n",
        "        self.train=train\n",
        "        self.file_names=[file for _,_,files in os.walk(self.file_path) for file in files]   \n",
        "\n",
        "        self.len = len(self.file_names)\n",
        "        if self.train:\n",
        "            self.classes_mapping=self.get_classes()\n",
        "    def __len__(self):\n",
        "        return len(self.file_names)\n",
        "    \n",
        "    def __getitem__(self, index):\n",
        "        file_name=self.file_names[index]\n",
        "        image_data=self.pil_loader(self.file_path+\"/\"+file_name)                     \n",
        "        image_data = self.transform(image_data)\n",
        "        if self.train:\n",
        "            file_name_splitted=file_name.split(\"_\")\n",
        "            Y1 = self.classes_mapping[file_name_splitted[0]]\n",
        "            Y2 = self.classes_mapping[file_name_splitted[1]]\n",
        "            z1,z2=torch.zeros(10),torch.zeros(10)\n",
        "            z1[Y1-10],z2[Y2]=1,1\n",
        "            label=torch.stack([z1,z2])\n",
        "\n",
        "            return image_data, label\n",
        "\n",
        "        else:\n",
        "            return image_data, file_name\n",
        "          \n",
        "    def pil_loader(self,path):\n",
        "        with open(path, 'rb') as f:\n",
        "            img = Image.open(f)\n",
        "            return img.convert('RGB')\n",
        "\n",
        "      \n",
        "    def get_classes(self):\n",
        "        classes=[]\n",
        "        for name in self.file_names:\n",
        "            name_splitted=name.split(\"_\")\n",
        "            classes.extend([name_splitted[0],name_splitted[1]])\n",
        "        classes=list(set(classes))\n",
        "        classes_mapping={}\n",
        "        for i,cl in enumerate(sorted(classes)):\n",
        "            classes_mapping[cl]=i\n",
        "        return classes_mapping\n"
      ],
      "execution_count": 0,
      "outputs": []
    },
    {
      "cell_type": "code",
      "metadata": {
        "id": "2JUNlOsKEYZj",
        "colab_type": "code",
        "colab": {}
      },
      "source": [
        "\n",
        "import torch\n",
        "import torch.nn as nn\n",
        "import torch.nn.functional as F\n",
        "import torch.optim as optim\n",
        "\n",
        "import torchvision\n",
        "import matplotlib.pyplot as plt\n",
        "from torchvision import datasets\n",
        "\n",
        "import torchvision.transforms as transforms\n",
        "\n",
        "import numpy as np\n",
        "import pandas as pd\n",
        "from tqdm import tqdm_notebook \n",
        "\n",
        "\n",
        "train_on_gpu = torch.cuda.is_available()"
      ],
      "execution_count": 0,
      "outputs": []
    },
    {
      "cell_type": "code",
      "metadata": {
        "id": "9CpfPt1rEcwC",
        "colab_type": "code",
        "colab": {}
      },
      "source": [
        "\n",
        "\n",
        "batch_size=300"
      ],
      "execution_count": 0,
      "outputs": []
    },
    {
      "cell_type": "code",
      "metadata": {
        "id": "OmCJSD3KEfjV",
        "colab_type": "code",
        "colab": {}
      },
      "source": [
        "full_data = VowelConsonantDataset(\"/content/gdrive/My Drive/kaggle/train/train\",train=True,transform=transform)\n",
        "#test_data = VowelConsonantDataset(\"/content/gdrive/My Drive/kaggle/test/test\",train=False,transform=transform)\n",
        "train_size = int(0.9 * len(full_data))\n",
        "test_size = len(full_data) - train_size\n",
        "\n",
        "train_data, validation_data = random_split(full_data, [train_size, test_size])\n",
        "\n",
        "train_loader = torch.utils.data.DataLoader(train_data, batch_size, shuffle=True)\n",
        "validation_loader = torch.utils.data.DataLoader(validation_data, batch_size, shuffle=True)"
      ],
      "execution_count": 0,
      "outputs": []
    },
    {
      "cell_type": "code",
      "metadata": {
        "id": "kZyZZdZMEiz-",
        "colab_type": "code",
        "colab": {}
      },
      "source": [
        "\n",
        "test_data = VowelConsonantDataset(\"/content/gdrive/My Drive/kaggle/test/test\",train=False,transform=transform)\n",
        "test_size=len(test_data)\n",
        "test_loader = torch.utils.data.DataLoader(test_data, batch_size, shuffle=False)"
      ],
      "execution_count": 0,
      "outputs": []
    },
    {
      "cell_type": "markdown",
      "metadata": {
        "id": "pgvbqZuoFd5f",
        "colab_type": "text"
      },
      "source": [
        "#VISUALISING TRAIN DATA"
      ]
    },
    {
      "cell_type": "code",
      "metadata": {
        "id": "EiV-I5vQFi9l",
        "colab_type": "code",
        "colab": {}
      },
      "source": [
        "\n",
        "\n",
        "for data in test_loader:\n",
        "  input,label=data\n",
        "  list1=list(label)\n",
        "  for i in list1:\n",
        "    print(i)\n",
        "    a1=i.split(\".\",1)\n",
        "    only_values.append(int(a1[0]))\n",
        "\n",
        "  "
      ],
      "execution_count": 0,
      "outputs": []
    },
    {
      "cell_type": "code",
      "metadata": {
        "id": "_IIaFL05YQ2P",
        "colab_type": "code",
        "colab": {}
      },
      "source": [
        "print(only_values)"
      ],
      "execution_count": 0,
      "outputs": []
    },
    {
      "cell_type": "code",
      "metadata": {
        "id": "hdW6Gt4OFtaf",
        "colab_type": "code",
        "outputId": "d3089577-7e14-4a8f-d1c1-f62812b2ef04",
        "colab": {
          "base_uri": "https://localhost:8080/",
          "height": 70
        }
      },
      "source": [
        "print(images.shape)\n",
        "print(images[0].shape)\n",
        "print(labels.shape)"
      ],
      "execution_count": 0,
      "outputs": [
        {
          "output_type": "stream",
          "text": [
            "torch.Size([300, 3, 224, 224])\n",
            "torch.Size([3, 224, 224])\n",
            "torch.Size([300, 2, 10])\n"
          ],
          "name": "stdout"
        }
      ]
    },
    {
      "cell_type": "markdown",
      "metadata": {
        "id": "KeOoF8C0FVXu",
        "colab_type": "text"
      },
      "source": [
        "#VISUALISING TEST DATA"
      ]
    },
    {
      "cell_type": "code",
      "metadata": {
        "id": "6X_tgkVLEqNZ",
        "colab_type": "code",
        "colab": {}
      },
      "source": [
        "dataiter = iter(test_loader)\n",
        "images,labels= dataiter.next()\n"
      ],
      "execution_count": 0,
      "outputs": []
    },
    {
      "cell_type": "code",
      "metadata": {
        "id": "fdz8sPUzExA7",
        "colab_type": "code",
        "colab": {}
      },
      "source": [
        "print(labels)\n",
        "print(images[0].shape)\n",
        "#print(labels.shape)"
      ],
      "execution_count": 0,
      "outputs": []
    },
    {
      "cell_type": "code",
      "metadata": {
        "id": "z3vbXU6TE3DT",
        "colab_type": "code",
        "outputId": "dcac02a6-cd93-4f52-8fde-5718b0941fbf",
        "colab": {
          "base_uri": "https://localhost:8080/",
          "height": 35
        }
      },
      "source": [
        "name=full_data.get_classes()\n",
        "print(name)"
      ],
      "execution_count": 0,
      "outputs": [
        {
          "output_type": "stream",
          "text": [
            "{'C0': 0, 'C1': 1, 'C2': 2, 'C3': 3, 'C4': 4, 'C5': 5, 'C6': 6, 'C7': 7, 'C8': 8, 'C9': 9, 'V0': 10, 'V1': 11, 'V2': 12, 'V3': 13, 'V4': 14, 'V5': 15, 'V6': 16, 'V7': 17, 'V8': 18, 'V9': 19}\n"
          ],
          "name": "stdout"
        }
      ]
    },
    {
      "cell_type": "code",
      "metadata": {
        "id": "HPVFTGjGE6N8",
        "colab_type": "code",
        "outputId": "6c501502-ab86-45aa-8f51-1ee87a3f1b68",
        "colab": {
          "base_uri": "https://localhost:8080/",
          "height": 35
        }
      },
      "source": [
        "\n",
        "\n",
        "device = torch.device(\"cuda:0\" if torch.cuda.is_available() else \"cpu\")\n",
        "print(device)"
      ],
      "execution_count": 10,
      "outputs": [
        {
          "output_type": "stream",
          "text": [
            "cuda:0\n"
          ],
          "name": "stdout"
        }
      ]
    },
    {
      "cell_type": "markdown",
      "metadata": {
        "id": "Q1iRAXUxGOZt",
        "colab_type": "text"
      },
      "source": [
        "#MODEL"
      ]
    },
    {
      "cell_type": "code",
      "metadata": {
        "id": "1pEEMcSiGkr5",
        "colab_type": "code",
        "colab": {}
      },
      "source": [
        "import torch.nn as nn\n",
        "from torchvision import models\n",
        "\n",
        "model = models.resnet18()\n",
        "model=model.to(device)"
      ],
      "execution_count": 0,
      "outputs": []
    },
    {
      "cell_type": "code",
      "metadata": {
        "id": "h_I4frxandDf",
        "colab_type": "code",
        "colab": {}
      },
      "source": [
        "num_classes=20    \n",
        "in_features = model.fc.in_features\n",
        "model.fc = nn.Linear(in_features, num_classes).to(device)    \n"
      ],
      "execution_count": 0,
      "outputs": []
    },
    {
      "cell_type": "code",
      "metadata": {
        "id": "6w5UL2z9Pldl",
        "colab_type": "code",
        "colab": {}
      },
      "source": [
        "class LambdaLayer(nn.Module):\n",
        "    def __init__(self, lambd):\n",
        "        super(LambdaLayer, self).__init__()\n",
        "        self.lambd = lambd\n",
        "    def forward(self, x):\n",
        "        return self.lambd(x)"
      ],
      "execution_count": 0,
      "outputs": []
    },
    {
      "cell_type": "code",
      "metadata": {
        "id": "cEep1QzBPNdP",
        "colab_type": "code",
        "colab": {}
      },
      "source": [
        "class Net(nn.Module):\n",
        "    def __init__(self): \n",
        "        super(Net, self).__init__()\n",
        "        self.m1_model = nn.Sequential(\n",
        "            model,\n",
        "            )\n",
        "        self.m2_model = nn.Sequential(  \n",
        "            \n",
        "            LambdaLayer(lambda x: x.view(x.size(0),2,10)))\n",
        "      \n",
        "    def forward(self, x):\n",
        "        print(x.shape)\n",
        "        x = self.m1_model(x)\n",
        "        print(x.shape)\n",
        "        #x = x.view(x.size(0), -1)\n",
        "        #print(x.shape)\n",
        "        x = self.m2_model(x)\n",
        "        print(x.shape)\n",
        "        return x\n",
        "\n"
      ],
      "execution_count": 0,
      "outputs": []
    },
    {
      "cell_type": "code",
      "metadata": {
        "id": "2WShSL6-PTXZ",
        "colab_type": "code",
        "colab": {}
      },
      "source": [
        "resnet_vo_co=Net().to(device)\n",
        "print(resnet_vo_co)"
      ],
      "execution_count": 0,
      "outputs": []
    },
    {
      "cell_type": "code",
      "metadata": {
        "id": "7YsaYIBqGnwx",
        "colab_type": "code",
        "colab": {}
      },
      "source": [
        "loss_fn = nn.CrossEntropyLoss()\n",
        "opt = optim.Adam(resnet_vo_co.parameters(), lr=0.003, betas=(0.9, 0.999), eps=1e-08, weight_decay=0.001, amsgrad=False)"
      ],
      "execution_count": 0,
      "outputs": []
    },
    {
      "cell_type": "markdown",
      "metadata": {
        "id": "bm1aaTTfG-zy",
        "colab_type": "text"
      },
      "source": [
        "#VOVEL ACCURACY"
      ]
    },
    {
      "cell_type": "code",
      "metadata": {
        "id": "SdYDWfQ5Gxy3",
        "colab_type": "code",
        "colab": {}
      },
      "source": [
        "# for vovels\n",
        "def final_evaluation_vo(data_loader):\n",
        "  total, correct = 0, 0\n",
        "  for data in data_loader:\n",
        "          inputs, labels = data \n",
        "          inputs, labels=inputs.to(device), labels.to(device)\n",
        "          inp=inputs.shape[0]    \n",
        "          \n",
        "          outputs = resnet_vo_co(inputs) \n",
        "          print(outputs.shape) \n",
        "          #outputs=outputs.reshape(inp,2,10)  \n",
        "          out=divide(outputs,0)\n",
        "          out=out.to(device)\n",
        "          \n",
        "          _,la1=torch.max(out.data, 1)\n",
        "          \n",
        "          \n",
        "          \"\"\"  1 :vovels\n",
        "               0: consonent  \"\"\"                                   \n",
        "          a1=divide(labels,0)\n",
        "          a1=a1.to(device)                #(N*10)         \n",
        "          _,pred=torch.max(a1.data, 1) \n",
        "          pred=pred.to(device)\n",
        "          \n",
        "\n",
        "          total += labels.size(0)\n",
        "          correct += (pred == la1).sum().item()\n",
        "          del inputs, labels, outputs,out,la1,a1,pred\n",
        "          torch.cuda.empty_cache()\n",
        "\n",
        "  return 100 * correct / total"
      ],
      "execution_count": 0,
      "outputs": []
    },
    {
      "cell_type": "markdown",
      "metadata": {
        "id": "vkz_EXN7LsVZ",
        "colab_type": "text"
      },
      "source": [
        "#CONSONENT ACCURACY"
      ]
    },
    {
      "cell_type": "code",
      "metadata": {
        "id": "v3cREXuqLv7-",
        "colab_type": "code",
        "colab": {}
      },
      "source": [
        "# for vovels\n",
        "def final_evaluation_co(data_loader):\n",
        "  total, correct = 0, 0\n",
        "  for data in data_loader:\n",
        "          inputs, labels = data \n",
        "          inputs, labels=inputs.to(device), labels.to(device)\n",
        "          inp=inputs.shape[0]             #labels=N*2*10\n",
        "                                            #input=N*3*64*64\n",
        "\n",
        "          \n",
        "          outputs = resnet_vo_co(inputs)  \n",
        "          out=divide(outputs,1)\n",
        "          out=out.to(device)\n",
        "          \n",
        "          _,la1=torch.max(out.data, 1)\n",
        "          \n",
        "          \"\"\"  1 :vovels\n",
        "               0: consonent  \"\"\"                                   \n",
        "          a1=divide(labels,1)\n",
        "          a1=a1.to(device)                #(N*10)         \n",
        "          _,pred=torch.max(a1.data, 1) \n",
        "          pred=pred.to(device)\n",
        "\n",
        "          total += labels.size(0)\n",
        "          correct += (pred == la1).sum().item()\n",
        "          del inputs, labels, outputs,out,la1,a1,pred\n",
        "          torch.cuda.empty_cache()\n",
        "  return 100 * correct / total"
      ],
      "execution_count": 0,
      "outputs": []
    },
    {
      "cell_type": "markdown",
      "metadata": {
        "id": "fGdjLOqBMAh_",
        "colab_type": "text"
      },
      "source": [
        "#DIVIDE"
      ]
    },
    {
      "cell_type": "code",
      "metadata": {
        "id": "MuQc9RlAMDby",
        "colab_type": "code",
        "colab": {}
      },
      "source": [
        "def divide(labels,m):\n",
        "  A=labels.shape[0]\n",
        "  B=labels.shape[1]\n",
        "  C=labels.shape[2]\n",
        "  a1=torch.zeros(A,C)\n",
        "  a2=torch.zeros(A,C)\n",
        "  for i in range(A):\n",
        "    for j in range(B):\n",
        "      for k in range(C):\n",
        "        if j==0:\n",
        "          a1[i][k]=labels[i][0][k]\n",
        "        elif j==1:\n",
        "          a2[i][k]=labels[i][1][k]\n",
        "  if m==0:\n",
        "    return a1\n",
        "  elif m==1:\n",
        "    return a2  "
      ],
      "execution_count": 0,
      "outputs": []
    },
    {
      "cell_type": "markdown",
      "metadata": {
        "id": "omEkOjVPMYUG",
        "colab_type": "text"
      },
      "source": [
        "#GPU INSPECTION"
      ]
    },
    {
      "cell_type": "code",
      "metadata": {
        "id": "EURB4z4UMj_w",
        "colab_type": "code",
        "outputId": "805d51b3-8155-411b-a10d-0137a9952d61",
        "colab": {
          "base_uri": "https://localhost:8080/",
          "height": 177
        }
      },
      "source": [
        "\n",
        "!pip install GPUtil"
      ],
      "execution_count": 20,
      "outputs": [
        {
          "output_type": "stream",
          "text": [
            "Collecting GPUtil\n",
            "  Downloading https://files.pythonhosted.org/packages/ed/0e/5c61eedde9f6c87713e89d794f01e378cfd9565847d4576fa627d758c554/GPUtil-1.4.0.tar.gz\n",
            "Building wheels for collected packages: GPUtil\n",
            "  Building wheel for GPUtil (setup.py) ... \u001b[?25l\u001b[?25hdone\n",
            "  Created wheel for GPUtil: filename=GPUtil-1.4.0-cp36-none-any.whl size=7413 sha256=c8d4a7c1f4188e05cbf79d24737e2a5025d3f98b311da4343a4d008b1da58855\n",
            "  Stored in directory: /root/.cache/pip/wheels/3d/77/07/80562de4bb0786e5ea186911a2c831fdd0018bda69beab71fd\n",
            "Successfully built GPUtil\n",
            "Installing collected packages: GPUtil\n",
            "Successfully installed GPUtil-1.4.0\n"
          ],
          "name": "stdout"
        }
      ]
    },
    {
      "cell_type": "code",
      "metadata": {
        "id": "eO1sRy5TMcYR",
        "colab_type": "code",
        "outputId": "0abab85b-d4d1-48b9-facf-83515e987851",
        "colab": {
          "base_uri": "https://localhost:8080/",
          "height": 88
        }
      },
      "source": [
        "\n",
        "import GPUtil\n",
        "GPUtil.showUtilization()\n",
        "\"\"\"!/opt/bin/nvidia-smi\n",
        "!ps -aux|grep python\n",
        "!kill 1736 1758\"\"\""
      ],
      "execution_count": 21,
      "outputs": [
        {
          "output_type": "stream",
          "text": [
            "| ID | GPU | MEM |\n",
            "------------------\n",
            "|  0 |  0% |  5% |\n"
          ],
          "name": "stdout"
        },
        {
          "output_type": "execute_result",
          "data": {
            "text/plain": [
              "'!/opt/bin/nvidia-smi\\n!ps -aux|grep python\\n!kill 1736 1758'"
            ]
          },
          "metadata": {
            "tags": []
          },
          "execution_count": 21
        }
      ]
    },
    {
      "cell_type": "code",
      "metadata": {
        "id": "79kGQlTWcexm",
        "colab_type": "code",
        "colab": {}
      },
      "source": [
        "!/opt/bin/nvidia-smi\n"
      ],
      "execution_count": 0,
      "outputs": []
    },
    {
      "cell_type": "code",
      "metadata": {
        "id": "rSXUwmivcj-H",
        "colab_type": "code",
        "colab": {}
      },
      "source": [
        "!ps -aux|grep python"
      ],
      "execution_count": 0,
      "outputs": []
    },
    {
      "cell_type": "code",
      "metadata": {
        "id": "k1-84IVucubY",
        "colab_type": "code",
        "colab": {}
      },
      "source": [
        "!kill 151 175"
      ],
      "execution_count": 0,
      "outputs": []
    },
    {
      "cell_type": "code",
      "metadata": {
        "id": "Ih_ifmBr096D",
        "colab_type": "code",
        "outputId": "c3a7cb87-8d23-474f-d543-d9aad459520a",
        "colab": {
          "base_uri": "https://localhost:8080/",
          "height": 35
        }
      },
      "source": [
        "resnet_vo_co.load_state_dict(torch.load( \"/content/gdrive/My Drive/kaggle/final_params.ipnyb\"))\n"
      ],
      "execution_count": 23,
      "outputs": [
        {
          "output_type": "execute_result",
          "data": {
            "text/plain": [
              "<All keys matched successfully>"
            ]
          },
          "metadata": {
            "tags": []
          },
          "execution_count": 23
        }
      ]
    },
    {
      "cell_type": "markdown",
      "metadata": {
        "id": "hCBgIZp8IoEc",
        "colab_type": "text"
      },
      "source": [
        "#NEW EVALUATION"
      ]
    },
    {
      "cell_type": "code",
      "metadata": {
        "id": "4Jo3JSoVIrIR",
        "colab_type": "code",
        "colab": {}
      },
      "source": [
        "def merge(data_loader):\n",
        "\n",
        "  actual=[]\n",
        "  predicted=[]\n",
        "  list2={'0':'C0', '1':'C1', '2':'C2', '3':'C3', '4':'C4', '5':'C5', '6':'C6', '7':'C7', '8':'C8', '9':'C9'}\n",
        "  list1={'0':'V0', '1':'V1', '2':'V2', '3':'V3', '4':'V4', '5':'V5', '6':'V6', '7':'V7', '8':'V8', '9':'V9'}\n",
        "  \n",
        "\n",
        "  for data in validation_loader:\n",
        "    inputs,labels=data\n",
        "    inputs,labels=inputs.to(device),labels.to(device)\n",
        "\n",
        "\n",
        "    \"\"\"*************************************************\"\"\"\n",
        "    a1=divide(labels,1)\n",
        "    a1=a1.to(device)                #(N*10)         \n",
        "    _,pred=torch.max(a1.data, 1) \n",
        "    pred=pred.to(device)\n",
        "    pred=pred.cpu().detach().numpy()\n",
        "\n",
        "    \n",
        "    a2=divide(labels,0)\n",
        "    a2=a2.to(device)                #(N*10)         \n",
        "    print(a1.shape)\n",
        "    _,pred1=torch.max(a2.data, 1) \n",
        "    pred1=pred1.to(device)\n",
        "    pred1=pred1.cpu().detach().numpy()\n",
        "    \n",
        "    for i,j in zip(pred1,pred):\n",
        "        actual.append(list1[str(i)]+\"_\"+list2[str(j)])\n",
        "    \"\"\"**************************************************\"\"\"\n",
        "\n",
        "    outputs = resnet_vo_co(inputs)  \n",
        "    outputs=outputs.to(device)\n",
        "    out_co=divide(outputs,1)\n",
        "    out_co=out_co.to(device)\n",
        "    print(\"*\")\n",
        "    \n",
        "    _,la1_co=torch.max(out_co.data, 1)\n",
        "    la1_co=la1_co.to(device)\n",
        "    la1_co=la1_co.cpu().detach().numpy()\n",
        "    out_vo=divide(outputs,0)\n",
        "    out_vo=out_vo.to(device)\n",
        "    \n",
        "    _,la1_vo=torch.max(out_vo.data, 1)\n",
        "    la1_vo=la1_vo.to(device)\n",
        "    la1_vo=la1_vo.cpu().detach().numpy()\n",
        "    for i,j in zip(la1_vo,la1_co):\n",
        "        predicted.append(list1[str(i)]+\"_\"+list2[str(j)])\n",
        "    \n",
        "    \"\"\"************************************************\"\"\"\n",
        "    \n",
        "                \n",
        "\n",
        "    del inputs, labels, outputs,pred1,pred,a1,a2,out_co,out_vo,la1_co,la1_vo\n",
        "    torch.cuda.empty_cache()\n",
        "    GPUtil.showUtilization()\n",
        "  return actual,predicted    \n",
        "\n",
        "\n",
        "\n",
        "\n",
        "\n",
        "\n",
        "  \n"
      ],
      "execution_count": 0,
      "outputs": []
    },
    {
      "cell_type": "code",
      "metadata": {
        "id": "8cQe28YWItpl",
        "colab_type": "code",
        "colab": {}
      },
      "source": [
        "\n",
        "def predict_ans(initial,final):\n",
        "  total, correct = 0, 0\n",
        "  \n",
        "  total += len(initial)\n",
        "  for i,j in zip(initial,final):\n",
        "    if(i==j):\n",
        "      correct+=1\n",
        "\n",
        "\n",
        "  \n",
        "  return 100 * correct / total\n",
        "\n"
      ],
      "execution_count": 0,
      "outputs": []
    },
    {
      "cell_type": "code",
      "metadata": {
        "id": "wbgbdsRHI1mj",
        "colab_type": "code",
        "colab": {}
      },
      "source": [
        "def evaluate(data_loader):\n",
        "  initial=[]\n",
        "  final=[]\n",
        "  initial,final=merge(data_loader)\n",
        "  a1=predict_ans(initial,final)\n",
        "  return a1"
      ],
      "execution_count": 0,
      "outputs": []
    },
    {
      "cell_type": "markdown",
      "metadata": {
        "id": "b-9DiTnpMt1I",
        "colab_type": "text"
      },
      "source": [
        "#TRAINING MODEL"
      ]
    },
    {
      "cell_type": "code",
      "metadata": {
        "id": "jKfuFmo7MwZV",
        "colab_type": "code",
        "colab": {}
      },
      "source": [
        "%%time\n",
        "\n",
        "GPUtil.showUtilization()\n",
        "loss_arr = []\n",
        "loss_epoch_arr = []\n",
        "epochs = 10\n",
        "for num_epoch in tqdm_notebook(range(epochs), total=epochs, unit=\"epoch\"):\n",
        "\n",
        "    for i, data in enumerate(train_loader, 0):\n",
        "\n",
        "        inputs, labels = data\n",
        "        inputs, labels = inputs.to(device), labels.to(device)\n",
        "        inp=inputs.shape[0]   \n",
        "        print(inp)\n",
        "\n",
        "        opt.zero_grad()\n",
        "\n",
        "        outputs = resnet_vo_co(inputs)                                  #N*20\n",
        "        outputs =outputs.to(device)\n",
        "        print(outputs.shape)\n",
        "                  \n",
        "                                                                        #input=N*3*64*64\n",
        "\n",
        "          \n",
        "        #FOR Vovels\n",
        "        \"\"\"************************************\"\"\"\n",
        "        out_vo=divide(outputs,0)  \n",
        "        out_vo=out_vo.to(device)                                      #N*10\n",
        "          \n",
        "        a1_vo=divide(labels,0)                                          #N*10\n",
        "        a1_vo=a1_vo.to(device)                                                  \n",
        "        _,pred1_vo=torch.max(a1_vo.data, 1)                             #N\n",
        "        pred1_vo=pred1_vo.to(device)\n",
        "        print(pred1_vo.shape)\n",
        "        loss_vo = loss_fn(out_vo, pred1_vo)\n",
        "        \"\"\"*************************************\"\"\"  \n",
        "        \n",
        "        #FOR consonents\n",
        "        \"\"\"**************************************\"\"\"\n",
        "        out_co=divide(outputs,1)      \n",
        "        out_co=out_co.to(device)                                 \n",
        "          \n",
        "        a1_co=divide(labels,1)                                        \n",
        "        a1_co=a1_co.to(device)                                                  \n",
        "        _,pred1_co=torch.max(a1_co.data, 1)                             #N\n",
        "        pred1_co=pred1_co.to(device)\n",
        "        print(pred1_co.shape)\n",
        "        loss_co = loss_fn(out_co, pred1_co)\n",
        "        \"\"\"**************************************\"\"\"\n",
        "                   \n",
        "        final_loss=(loss_co + loss_vo) \n",
        "        final_loss.backward()\n",
        "        opt.step()\n",
        "        \n",
        "        \n",
        "        loss_arr.append(final_loss.item())\n",
        "        del inputs, labels, outputs,pred1_co,pred1_vo,a1_co,a1_vo,out_co,out_vo\n",
        "        torch.cuda.empty_cache()\n",
        "        GPUtil.showUtilization()\n",
        "        \n",
        "    loss_epoch_arr.append(final_loss.item())\n",
        "    resnet_vo_co=resnet_vo_co.eval()    \n",
        "    print('Epoch: %d/%d, vovels::Test acc: %0.2f, Train acc: %0.2f ' % (num_epoch, epochs, final_evaluation_vo(validation_loader), final_evaluation_vo(train_loader)))\n",
        "    print('Epoch: %d/%d, consonents::Test acc: %0.2f, Train acc: %0.2f ' % (num_epoch, epochs, final_evaluation_co(validation_loader), final_evaluation_co(train_loader)))\n",
        "    print('Epoch: %d/%d, Overall::Test acc: %0.2f, Train acc: %0.2f ' % (num_epoch, epochs, evaluate(validation_loader), evaluate(train_loader)))\n",
        "\n",
        "    \n",
        "plt.plot(loss_epoch_arr)\n",
        "plt.show()\n"
      ],
      "execution_count": 0,
      "outputs": []
    },
    {
      "cell_type": "code",
      "metadata": {
        "id": "BVX1ZfvzMeCP",
        "colab_type": "code",
        "colab": {}
      },
      "source": [
        "#previous best on final_model.ipnyb\n",
        "#overall best on final_params.ipnyb\n",
        "torch.save(resnet_vo_co.state_dict(), \"/content/gdrive/My Drive/kaggle/final_params.ipnyb\")\n"
      ],
      "execution_count": 0,
      "outputs": []
    },
    {
      "cell_type": "markdown",
      "metadata": {
        "id": "-BTi2drfxt3W",
        "colab_type": "text"
      },
      "source": [
        "#Predictions"
      ]
    },
    {
      "cell_type": "code",
      "metadata": {
        "id": "Y7IBBUVBxs12",
        "colab_type": "code",
        "colab": {}
      },
      "source": [
        "list2={'0':'C0', '1':'C1', '2':'C2', '3':'C3', '4':'C4', '5':'C5', '6':'C6', '7':'C7', '8':'C8', '9':'C9'}\n",
        "list1={'0':'V0', '1':'V1', '2':'V2', '3':'V3', '4':'V4', '5':'V5', '6':'V6', '7':'V7', '8':'V8', '9':'V9'}\n",
        "readings=[]\n",
        "given=[]\n",
        "index=0\n",
        "my=[]"
      ],
      "execution_count": 0,
      "outputs": []
    },
    {
      "cell_type": "code",
      "metadata": {
        "id": "jYs0m41iy8hE",
        "colab_type": "code",
        "outputId": "d4e0f18b-952e-4f2e-80af-be1eb731067c",
        "colab": {
          "base_uri": "https://localhost:8080/",
          "height": 35
        }
      },
      "source": [
        "\n",
        "resnet_vo_co=Net().to(device)\n",
        "resnet_vo_co=resnet_vo_co.eval()    \n",
        "    \n",
        "\n",
        "resnet_vo_co.load_state_dict(torch.load( \"/content/gdrive/My Drive/kaggle/final_params.ipnyb\"))#, map_location='cpu'))\n"
      ],
      "execution_count": 23,
      "outputs": [
        {
          "output_type": "execute_result",
          "data": {
            "text/plain": [
              "<All keys matched successfully>"
            ]
          },
          "metadata": {
            "tags": []
          },
          "execution_count": 23
        }
      ]
    },
    {
      "cell_type": "code",
      "metadata": {
        "id": "kgzGD_bI387d",
        "colab_type": "code",
        "outputId": "f5983ab6-ab78-4697-dba5-7460a40e271e",
        "colab": {
          "base_uri": "https://localhost:8080/",
          "height": 70
        }
      },
      "source": [
        "import GPUtil\n",
        "GPUtil.showUtilization()\n"
      ],
      "execution_count": 24,
      "outputs": [
        {
          "output_type": "stream",
          "text": [
            "| ID | GPU | MEM |\n",
            "------------------\n",
            "|  0 |  0% |  5% |\n"
          ],
          "name": "stdout"
        }
      ]
    },
    {
      "cell_type": "code",
      "metadata": {
        "id": "EYscYeGE0Qgg",
        "colab_type": "code",
        "colab": {}
      },
      "source": [
        "\n",
        "def predict_ans(data_loader):\n",
        "  total, correct = 0, 0\n",
        "  \n",
        "  \n",
        "\n",
        "  index=0\n",
        "  for data in data_loader:\n",
        "    inputs,labels=data\n",
        "    inputs=inputs.to(device)\n",
        "    list3=list(labels)\n",
        "\n",
        "    inp=inputs.shape[0]   \n",
        "    print(inp)\n",
        "\n",
        "    outputs=resnet_vo_co(inputs)\n",
        "    print(outputs.shape)\n",
        "    \"\"\"************************************\"\"\" \n",
        "    out_vo=divide(outputs,0)  \n",
        "    out_vo=out_vo.to(device)                                      #N*10\n",
        "    _,la1_vo=torch.max(out_vo.data, 1)\n",
        "    la1_vo=la1_vo.to(device)\n",
        "    \"\"\"***********************************\"\"\"      \n",
        "    \n",
        "    \n",
        "    \n",
        "    out_co=divide(outputs,1)      \n",
        "    out_co=out_co.to(device)                                 \n",
        "    _,la1_co=torch.max(out_co.data, 1)\n",
        "    la1_co=la1_co.to(device)  \n",
        "    \"\"\"*************************************\"\"\"\n",
        "    ans1_vo=la1_vo.cpu().detach().numpy()\n",
        "    ans1_co=la1_co.cpu().detach().numpy()\n",
        "    \n",
        "\n",
        "    for i,j in zip(ans1_vo,ans1_co):\n",
        "      readings.append(list1[str(i)]+\"_\"+list2[str(j)])\n",
        "    for i in list3:\n",
        "      a1=i.split(\".\",1)\n",
        "      only_values.append(int(a1[0]))  \n",
        "    del inputs, labels,outputs, out_vo,out_co,la1_vo,la1_co,ans1_vo,ans1_co\n",
        "    torch.cuda.empty_cache()  \n",
        "    \n",
        "    \n",
        "    \n",
        "    \n",
        "    \n",
        "    \n",
        "    \n",
        "      \n",
        "      \n",
        "        \n"
      ],
      "execution_count": 0,
      "outputs": []
    },
    {
      "cell_type": "code",
      "metadata": {
        "id": "FURKWiwl2jAU",
        "colab_type": "code",
        "colab": {}
      },
      "source": [
        "readings=[]\n",
        "list3=[]\n",
        "only_values=[]\n",
        "complete={}\n",
        "\n",
        "predict_ans(test_loader)"
      ],
      "execution_count": 0,
      "outputs": []
    },
    {
      "cell_type": "code",
      "metadata": {
        "id": "0d3_OPrz2m1l",
        "colab_type": "code",
        "colab": {}
      },
      "source": [
        "print(len(readings))\n",
        "print(type(readings))\n",
        "print(readings)\n",
        "print(len(only_values))\n",
        "print(type(only_values[0]))\n",
        "print(only_values)"
      ],
      "execution_count": 0,
      "outputs": []
    },
    {
      "cell_type": "code",
      "metadata": {
        "id": "sm-ot7-eA-fb",
        "colab_type": "code",
        "colab": {}
      },
      "source": [
        "for i,j in zip(readings,only_values):\n",
        "  complete[j]=i"
      ],
      "execution_count": 0,
      "outputs": []
    },
    {
      "cell_type": "code",
      "metadata": {
        "id": "SNanTlxQBghp",
        "colab_type": "code",
        "colab": {}
      },
      "source": [
        "print(complete)"
      ],
      "execution_count": 0,
      "outputs": []
    },
    {
      "cell_type": "code",
      "metadata": {
        "id": "0H7yO_4yCBhO",
        "colab_type": "code",
        "colab": {}
      },
      "source": [
        "new={}\n",
        "final=[]\n",
        "for i in sorted (complete) : \n",
        "    print ((i, complete[i]), end =\" \")\n",
        "    final.append(complete[i])"
      ],
      "execution_count": 0,
      "outputs": []
    },
    {
      "cell_type": "code",
      "metadata": {
        "id": "thQLX0DsC3pZ",
        "colab_type": "code",
        "colab": {}
      },
      "source": [
        "print(len(final))\n",
        "print(final)"
      ],
      "execution_count": 0,
      "outputs": []
    },
    {
      "cell_type": "code",
      "metadata": {
        "id": "RCqITFhlCpRR",
        "colab_type": "code",
        "outputId": "a5e1aa6a-b239-4802-b335-4c82237634db",
        "colab": {
          "base_uri": "https://localhost:8080/",
          "height": 35
        }
      },
      "source": [
        "print(new)"
      ],
      "execution_count": 32,
      "outputs": [
        {
          "output_type": "stream",
          "text": [
            "{}\n"
          ],
          "name": "stdout"
        }
      ]
    },
    {
      "cell_type": "code",
      "metadata": {
        "id": "bqUHxf6B3Mgy",
        "colab_type": "code",
        "colab": {}
      },
      "source": [
        "import pandas as pd\n",
        "\n",
        "df = pd.DataFrame.from_dict({'Column1':final})\n",
        "df.to_csv(\"/content/gdrive/My Drive/kaggle/sample_submission.csv\", header=True, index=False)"
      ],
      "execution_count": 0,
      "outputs": []
    },
    {
      "cell_type": "code",
      "metadata": {
        "id": "L-ICdATME_jM",
        "colab_type": "code",
        "colab": {}
      },
      "source": [
        ""
      ],
      "execution_count": 0,
      "outputs": []
    }
  ]
}